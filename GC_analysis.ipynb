{
 "cells": [
  {
   "cell_type": "code",
   "execution_count": null,
   "metadata": {},
   "outputs": [],
   "source": [
    "import matplotlib.pyplot as plt\n",
    "from Bio import SeqIO\n",
    "\n",
    "\n",
    "# calculate GC content\n",
    "def calculate_gc_content(sequence):\n",
    "    sequence = sequence.upper()  # Uper cases needed\n",
    "    gc_count = sequence.count('G') + sequence.count('C') \n",
    "    total_bases = len(sequence)\n",
    "    gc_content = (gc_count / total_bases) * 100\n",
    "    return gc_content\n",
    "\n",
    "def plot_gc_content_histogram(fasta_file):\n",
    "    gc_contents = []\n",
    "    for record in SeqIO.parse(fasta_file, \"fasta\"):\n",
    "        gc_content = calculate_gc_content(str(record.seq))\n",
    "        gc_contents.append(gc_content)\n",
    "    \n",
    "    min_gc_content = min(gc_contents)\n",
    "    max_gc_content = max(gc_contents)\n",
    "\n",
    "    plt.hist(gc_contents, bins=20, color='skyblue', edgecolor='black')\n",
    "    plt.xlabel('GC Content (%)')\n",
    "    plt.ylabel('Frequency')\n",
    "    plt.title('GC Content Histogram')\n",
    "    plt.grid(True)\n",
    "    plt.show()\n",
    "\n",
    "    print(f\"Der GC-Gehalt streut von {min_gc_content:.2f}% bis {max_gc_content:.2f}%.\")\n",
    "\n",
    "\n",
    "fasta_file = 'path_to_your_fasta_file'\n",
    "plot_gc_content_histogram(fasta_file)\n"
   ]
  }
 ],
 "metadata": {
  "language_info": {
   "name": "python"
  }
 },
 "nbformat": 4,
 "nbformat_minor": 2
}
