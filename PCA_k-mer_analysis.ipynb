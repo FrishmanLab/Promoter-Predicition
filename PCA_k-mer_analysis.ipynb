{
 "cells": [
  {
   "cell_type": "code",
   "execution_count": null,
   "metadata": {},
   "outputs": [],
   "source": [
    "from sklearn.decomposition import PCA\n",
    "import matplotlib.pyplot as plt\n",
    "\n",
    "#please use this code in combination with \"kmer_generation.ipynb\", to load needed dataframes\n",
    "\n",
    "# PCA for promoter\n",
    "pca_promoter = PCA(n_components=2)\n",
    "promoter_pca = pca_promoter.fit_transform(promoter_df)\n",
    "\n",
    "# PCA for non-promoter\n",
    "pca_non_promoter = PCA(n_components=2)\n",
    "non_promoter_pca = pca_non_promoter.fit_transform(non_promoter_df)\n",
    "\n",
    "\n",
    "df_promoter = pd.DataFrame(data=promoter_pca, columns=['PC1', 'PC2'])\n",
    "df_promoter['Label'] = 'Promoter'\n",
    "\n",
    "df_non_promoter = pd.DataFrame(data=non_promoter_pca, columns=['PC1', 'PC2'])\n",
    "df_non_promoter['Label'] = 'Non-Promoter'\n",
    "\n",
    "\n",
    "plt.figure(figsize=(10, 7))\n",
    "plt.scatter(df_promoter['PC1'], df_promoter['PC2'], c='blue', label='Promoter', alpha=0.5)\n",
    "plt.scatter(df_non_promoter['PC1'], df_non_promoter['PC2'], c='red', label='Non-Promoter', alpha=0.5)\n",
    "\n",
    "plt.xlabel('Principal Component 1')\n",
    "plt.ylabel('Principal Component 2')\n",
    "plt.title('PCA of K-mer Frequencies (Promoter vs Non-Promoter)')\n",
    "plt.legend()\n",
    "plt.show()\n"
   ]
  }
 ],
 "metadata": {
  "language_info": {
   "name": "python"
  }
 },
 "nbformat": 4,
 "nbformat_minor": 2
}
